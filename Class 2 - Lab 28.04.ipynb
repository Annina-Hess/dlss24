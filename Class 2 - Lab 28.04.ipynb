{
 "cells": [
  {
   "cell_type": "markdown",
   "id": "5eb03263",
   "metadata": {},
   "source": [
    "# Week 2 - Class 2\n",
    "\n",
    "This notebook have a recap of python concepts needed throughout the course"
   ]
  },
  {
   "cell_type": "markdown",
   "id": "8d1e1128",
   "metadata": {},
   "source": [
    "# 1. Mathematical Operations\n"
   ]
  },
  {
   "cell_type": "markdown",
   "id": "62fda550",
   "metadata": {},
   "source": [
    "## Q1"
   ]
  },
  {
   "cell_type": "code",
   "execution_count": null,
   "id": "baec12a1",
   "metadata": {},
   "outputs": [],
   "source": [
    "print(\"Divide 30 by 6 and sum 5\", <your-answer>)\n"
   ]
  },
  {
   "cell_type": "markdown",
   "id": "13db4494",
   "metadata": {},
   "source": [
    "## Q2 Variables and printing"
   ]
  },
  {
   "cell_type": "code",
   "execution_count": null,
   "id": "18edb5ea",
   "metadata": {},
   "outputs": [],
   "source": [
    "# Find 3 different ways of printing\n",
    "\n",
    "# https://miro.com/online-whiteboard/board/gkcMdWcBfa2HKfMfoougfwogUQQ6qdxo/ "
   ]
  },
  {
   "cell_type": "code",
   "execution_count": null,
   "id": "db6902ff",
   "metadata": {},
   "outputs": [],
   "source": [
    "my_name = 'Zed A. Shaw'\n",
    "my_age = 35 \n",
    "my_height = 74 # inches\n",
    "\n"
   ]
  },
  {
   "cell_type": "markdown",
   "id": "349d3fd5",
   "metadata": {},
   "source": [
    "## 1.3 Assignment of variables"
   ]
  },
  {
   "cell_type": "code",
   "execution_count": null,
   "id": "f2d48a7a",
   "metadata": {},
   "outputs": [],
   "source": [
    "first, second = 'Grace', 'Hopper'\n",
    "third, fourth = second, first\n",
    "# replace by the variables to have the result: Hopper Grace\n",
    "print(fourth,third )"
   ]
  },
  {
   "cell_type": "markdown",
   "id": "fdf25179",
   "metadata": {},
   "source": [
    "## Q4 Data types"
   ]
  },
  {
   "cell_type": "code",
   "execution_count": null,
   "id": "fae056ec",
   "metadata": {},
   "outputs": [],
   "source": [
    "planet = 'Earth'\n",
    "apples = 5\n",
    "distance = 10.5\n",
    "\n",
    "#add a new cell (Esc+B) and print each variable data type\n",
    "# hint: https://stackoverflow.com/questions/402504/how-to-determine-a-python-variables-type"
   ]
  },
  {
   "cell_type": "markdown",
   "id": "b7429a02",
   "metadata": {},
   "source": [
    "# 2. Array Data"
   ]
  },
  {
   "cell_type": "markdown",
   "id": "3e2ea5a4",
   "metadata": {},
   "source": [
    "## Q5"
   ]
  },
  {
   "cell_type": "code",
   "execution_count": null,
   "id": "e1fa9d2e",
   "metadata": {},
   "outputs": [],
   "source": [
    "#Search on a search engine how to 'show an image on jupyter notebook'\n",
    "#you have the image file in this directory: 'data/IMG1_W2.jpg'\n",
    "#hint: https://stackoverflow.com/questions/11854847/how-can-i-display-an-image-from-a-file-in-jupyter-notebook"
   ]
  },
  {
   "cell_type": "markdown",
   "id": "1b296e7f",
   "metadata": {},
   "source": [
    "## Q6"
   ]
  },
  {
   "cell_type": "code",
   "execution_count": null,
   "id": "2778be58",
   "metadata": {},
   "outputs": [],
   "source": [
    "# loading some data from numpy package\n",
    "# This command will give an error: How to solve that mistake? what is missing? \n",
    "\n",
    "data = np.loadtxt(fname='data/inflammation-01.csv', delimiter=',')\n"
   ]
  },
  {
   "cell_type": "code",
   "execution_count": null,
   "id": "af939825",
   "metadata": {},
   "outputs": [],
   "source": [
    "# print the data type if data\n"
   ]
  },
  {
   "cell_type": "markdown",
   "id": "973ee621",
   "metadata": {},
   "source": [
    "## Q7"
   ]
  },
  {
   "cell_type": "code",
   "execution_count": null,
   "id": "9cb30328",
   "metadata": {},
   "outputs": [],
   "source": [
    "# print the data dimensions\n",
    "# hint: you need to know your question, and the data type of what you are dealing \n",
    "# https://stackoverflow.com/questions/3061761/numpy-array-dimensions\n",
    "\n"
   ]
  },
  {
   "cell_type": "code",
   "execution_count": null,
   "id": "a45d508c",
   "metadata": {},
   "outputs": [],
   "source": [
    "print('first value in data:', <your-answer>)"
   ]
  },
  {
   "cell_type": "code",
   "execution_count": null,
   "id": "18e672a1",
   "metadata": {},
   "outputs": [],
   "source": [
    "print('middle value in data:', <your-answer>)"
   ]
  },
  {
   "cell_type": "code",
   "execution_count": null,
   "id": "64dd2200",
   "metadata": {},
   "outputs": [],
   "source": [
    "print('First 5 rows and first 5 columns', <your-answer>)"
   ]
  },
  {
   "cell_type": "code",
   "execution_count": null,
   "id": "89db1fad",
   "metadata": {},
   "outputs": [],
   "source": [
    "\n",
    "maxval, minval, stdval = <your-answer>, <your-answer>, <your-answer>\n",
    "\n",
    "print('maximum inflammation:', maxval)\n",
    "print('minimum inflammation:', minval)\n",
    "print('standard deviation:', stdval)"
   ]
  },
  {
   "cell_type": "code",
   "execution_count": null,
   "id": "8eb98cf2",
   "metadata": {},
   "outputs": [],
   "source": [
    "# Print mean of rows, print the shape\n",
    "<your-answer>"
   ]
  },
  {
   "cell_type": "code",
   "execution_count": null,
   "id": "ed899ea2",
   "metadata": {},
   "outputs": [],
   "source": [
    "# Print mean of columns, print the shape\n",
    "<your-answer>"
   ]
  },
  {
   "cell_type": "code",
   "execution_count": null,
   "id": "2eac09f4",
   "metadata": {},
   "outputs": [],
   "source": [
    "# Show the image 'IMG2_W2.jpg' here\n",
    "Image(filename='data/IMG1_W2.jpg') "
   ]
  },
  {
   "cell_type": "code",
   "execution_count": null,
   "id": "668337b3",
   "metadata": {},
   "outputs": [],
   "source": [
    "element = 'oxygen'\n",
    "#solution\n",
    "print('first three characters:', <your-answer>)\n",
    "print('last three characters:', <your-answer>)"
   ]
  },
  {
   "cell_type": "markdown",
   "id": "b1318524",
   "metadata": {},
   "source": [
    "## Q8"
   ]
  },
  {
   "cell_type": "code",
   "execution_count": null,
   "id": "f4aaff7d",
   "metadata": {},
   "outputs": [],
   "source": [
    "# plot the column average (next cell) of data\n",
    "#run this cell first\n",
    "import matplotlib.pyplot as plt"
   ]
  },
  {
   "cell_type": "code",
   "execution_count": null,
   "id": "7b481ebd",
   "metadata": {},
   "outputs": [],
   "source": [
    "<your-answer>"
   ]
  },
  {
   "cell_type": "markdown",
   "id": "22daaba0",
   "metadata": {},
   "source": [
    "# 3. Python Lists"
   ]
  },
  {
   "cell_type": "markdown",
   "id": "0e0ee0b2",
   "metadata": {},
   "source": [
    "Unlike NumPy arrays, lists are built into the language so we do not have to load a library to use them. We create a list by putting values inside square brackets and separating the values with commas:"
   ]
  },
  {
   "cell_type": "code",
   "execution_count": null,
   "id": "fa36eb0e",
   "metadata": {},
   "outputs": [],
   "source": [
    "odds = [1, 3, 5, 7]\n",
    "print('odds are:', odds)"
   ]
  },
  {
   "cell_type": "code",
   "execution_count": null,
   "id": "ef34b459",
   "metadata": {},
   "outputs": [],
   "source": [
    "len(odds)"
   ]
  },
  {
   "cell_type": "code",
   "execution_count": null,
   "id": "084f383a",
   "metadata": {},
   "outputs": [],
   "source": [
    "odds.shape"
   ]
  },
  {
   "cell_type": "code",
   "execution_count": null,
   "id": "6750b693",
   "metadata": {},
   "outputs": [],
   "source": [
    "odds.dim"
   ]
  },
  {
   "cell_type": "code",
   "execution_count": null,
   "id": "2f691883",
   "metadata": {},
   "outputs": [],
   "source": [
    "print('first element:', <your-answer>)\n",
    "print('last element:', <your-answer>)\n",
    "print('\"vorletzte\" element:',  <your-answer>)"
   ]
  },
  {
   "cell_type": "code",
   "execution_count": null,
   "id": "3a2608f9",
   "metadata": {},
   "outputs": [],
   "source": [
    "names = ['Curie', 'Darwing', 'Turing']  # typo in Darwin's name\n",
    "print('names is originally:', names)\n",
    "# Change (assign) the second name on names list to 'Darwin' \n",
    " <your-answer>\n"
   ]
  },
  {
   "cell_type": "markdown",
   "id": "41faf842",
   "metadata": {},
   "source": [
    "## 3.1 Mutable and imutable"
   ]
  },
  {
   "cell_type": "markdown",
   "id": "1a410680",
   "metadata": {},
   "source": [
    "Be careful when modifying data in-place. If two variables refer to the same list, and you modify the list value, it will change for both variables!\n"
   ]
  },
  {
   "cell_type": "code",
   "execution_count": null,
   "id": "a1535c80",
   "metadata": {},
   "outputs": [],
   "source": [
    "salsa = ['peppers', 'onions', 'cilantro', 'tomatoes']\n",
    "my_salsa = salsa        # <-- my_salsa and salsa point to the *same* list data in memory\n",
    "salsa[0] = 'hot peppers'\n",
    "print('Ingredients in my salsa:', my_salsa)\n"
   ]
  },
  {
   "cell_type": "markdown",
   "id": "892de6b1",
   "metadata": {},
   "source": [
    "If you want variables with mutable values to be independent, you must make a copy of the value when you assign it.\n",
    "\n"
   ]
  },
  {
   "cell_type": "code",
   "execution_count": null,
   "id": "0a4a766f",
   "metadata": {},
   "outputs": [],
   "source": [
    "salsa = ['peppers', 'onions', 'cilantro', 'tomatoes']\n",
    "my_salsa = list(salsa)        # <-- makes a *copy* of the list\n",
    "salsa[0] = 'hot peppers'\n",
    "print('Ingredients in my salsa:', my_salsa)"
   ]
  },
  {
   "cell_type": "markdown",
   "id": "c1f999a4",
   "metadata": {},
   "source": [
    "## 3.2 Nested Lists"
   ]
  },
  {
   "cell_type": "code",
   "execution_count": null,
   "id": "935f21fb",
   "metadata": {},
   "outputs": [],
   "source": [
    "x = [['pepper', 'zucchini', 'onion'],\n",
    "     ['cabbage', 'lettuce', 'garlic'],\n",
    "     ['apple', 'pear', 'banana']]\n"
   ]
  },
  {
   "cell_type": "code",
   "execution_count": null,
   "id": "cd19f470",
   "metadata": {},
   "outputs": [],
   "source": [
    "print(x[0])"
   ]
  },
  {
   "cell_type": "code",
   "execution_count": null,
   "id": "26a05a66",
   "metadata": {},
   "outputs": [],
   "source": [
    "print(x[0][0])"
   ]
  },
  {
   "cell_type": "code",
   "execution_count": null,
   "id": "1920302a",
   "metadata": {},
   "outputs": [],
   "source": [
    "x"
   ]
  },
  {
   "cell_type": "code",
   "execution_count": null,
   "id": "dd5463fb",
   "metadata": {},
   "outputs": [],
   "source": [
    "#Print lettuce\n"
   ]
  },
  {
   "cell_type": "markdown",
   "id": "e48eefcb",
   "metadata": {},
   "source": [
    "## 3.3 Add list items"
   ]
  },
  {
   "cell_type": "code",
   "execution_count": null,
   "id": "9df898da",
   "metadata": {},
   "outputs": [],
   "source": [
    "# Add an element at the end\n",
    "thislist = [\"apple\", \"banana\", \"cherry\"]\n",
    "thislist.append(\"orange\")\n",
    "print(thislist)"
   ]
  },
  {
   "cell_type": "code",
   "execution_count": null,
   "id": "3b464e16",
   "metadata": {},
   "outputs": [],
   "source": [
    "# Add an element at a given position: add orange in the second position\n",
    "# search: \"add element in lost at a given position python\" and choose the stackoverflow link\n",
    "thislist = [\"apple\", \"banana\", \"cherry\"]\n",
    "thislist.insert(1,'orange')\n",
    "print(thislist)"
   ]
  },
  {
   "cell_type": "code",
   "execution_count": null,
   "id": "a2c79e32",
   "metadata": {},
   "outputs": [],
   "source": [
    "# Remove the last element of a list\n",
    "thislist.pop()\n",
    "thislist"
   ]
  },
  {
   "cell_type": "code",
   "execution_count": null,
   "id": "3e4e0645",
   "metadata": {},
   "outputs": [],
   "source": [
    "# Remove the first element of a list\n",
    "thislist.pop(0)\n",
    "thislist\n"
   ]
  },
  {
   "cell_type": "code",
   "execution_count": null,
   "id": "35b73844",
   "metadata": {},
   "outputs": [],
   "source": [
    "thislist = [\"apple\", \"banana\", \"cherry\"]\n",
    "for i in range(len(thislist)):\n",
    "  print(thislist[i])"
   ]
  },
  {
   "cell_type": "markdown",
   "id": "fd5caba4",
   "metadata": {},
   "source": [
    "## Q9"
   ]
  },
  {
   "cell_type": "code",
   "execution_count": null,
   "id": "57673dad",
   "metadata": {},
   "outputs": [],
   "source": [
    "#print the first and last character for each element in the list thislist\n",
    "\n",
    "thislist = [\"apple\", \"banana\", \"cherry\"]\n",
    "\n",
    " <your-answer>\n",
    "  "
   ]
  },
  {
   "cell_type": "markdown",
   "id": "cf94403d",
   "metadata": {},
   "source": [
    "# 4. Tuples"
   ]
  },
  {
   "cell_type": "markdown",
   "id": "0257f0e9",
   "metadata": {},
   "source": [
    "Tuples are used to store multiple items in a single variable.\n",
    "\n",
    "Tuple is one of 4 built-in data types in Python used to store collections of data, the other 3 are List, Set, and Dictionary, all with different qualities and usage.\n",
    "\n",
    "A tuple is a collection which is ordered and unchangeable.\n",
    "\n",
    "Tuples are written with round brackets"
   ]
  },
  {
   "cell_type": "markdown",
   "id": "6904005f",
   "metadata": {},
   "source": [
    "### Tuple Items\n",
    "Tuple items are ordered, unchangeable, and allow duplicate values.\n",
    "\n",
    "Tuple items are indexed, the first item has index [0], the second item has index [1] etc.\n",
    "\n",
    "### Ordered\n",
    "When we say that tuples are ordered, it means that the items have a defined order, and that order will not change.\n",
    "\n",
    "### Unchangeable\n",
    "Tuples are unchangeable, meaning that we cannot change, add or remove items after the tuple has been created.\n",
    "\n",
    "### Allow Duplicates\n",
    "Since tuples are indexed, they can have items with the same value"
   ]
  },
  {
   "cell_type": "code",
   "execution_count": null,
   "id": "5c36ecfc",
   "metadata": {},
   "outputs": [],
   "source": [
    "thistuple = (\"apple\", \"banana\", \"cherry\", \"apple\", \"cherry\")\n",
    "print(thistuple)\n"
   ]
  },
  {
   "cell_type": "code",
   "execution_count": null,
   "id": "8b3ce2eb",
   "metadata": {},
   "outputs": [],
   "source": [
    "# how to change tuples?\n",
    "thistuple = (\"apple\", \"banana\", \"cherry\")\n",
    "y = list(thistuple) #make it a list, do transformations, and change again to tupple\n",
    "y.append(\"orange\")\n",
    "thistuple = tuple(y)"
   ]
  },
  {
   "cell_type": "code",
   "execution_count": null,
   "id": "08ae82c5",
   "metadata": {},
   "outputs": [],
   "source": [
    "thistuple"
   ]
  },
  {
   "cell_type": "markdown",
   "id": "9810c222",
   "metadata": {},
   "source": [
    "# 5. Sets"
   ]
  },
  {
   "cell_type": "markdown",
   "id": "148e044e",
   "metadata": {},
   "source": [
    "Sets cannot have two items with the same value."
   ]
  },
  {
   "cell_type": "code",
   "execution_count": null,
   "id": "115bb84b",
   "metadata": {},
   "outputs": [],
   "source": [
    "thisset = {\"apple\", \"banana\", \"cherry\"}\n",
    "mylist = [\"kiwi\", \"orange\"]\n",
    "\n",
    "thisset.update(mylist)\n",
    "\n",
    "print(thisset)"
   ]
  },
  {
   "cell_type": "code",
   "execution_count": null,
   "id": "0ff2d484",
   "metadata": {},
   "outputs": [],
   "source": [
    "thisset = {\"apple\", \"banana\", \"cherry\"}\n",
    "\n",
    "thisset.add(\"orange\")\n",
    "\n",
    "print(thisset)"
   ]
  },
  {
   "cell_type": "code",
   "execution_count": null,
   "id": "ecb6c0c8",
   "metadata": {},
   "outputs": [],
   "source": [
    "set1 = {\"a\", \"b\" , \"c\"}\n",
    "set2 = {1, 2, 3}\n",
    "\n",
    "set3 = set1.union(set2)\n",
    "print(set3)"
   ]
  },
  {
   "cell_type": "code",
   "execution_count": null,
   "id": "92bfc4ff",
   "metadata": {},
   "outputs": [],
   "source": [
    "# Define two sets\n",
    "a = {1, 2, 3, 4, 5}\n",
    "b = {4, 5, 6, 7, 8}\n",
    "\n",
    "# Find the difference between set a and set b\n",
    "diff_a_b = a.difference(b)\n",
    "diff_b_a = b.difference(a)\n",
    "\n",
    "# Alternatively, you can use the - operator\n",
    "diff_a_b_alt = a - b\n",
    "diff_b_a_alt = b - a"
   ]
  },
  {
   "cell_type": "markdown",
   "id": "ed0d072f",
   "metadata": {},
   "source": [
    "# 6. Dictionaries"
   ]
  },
  {
   "cell_type": "markdown",
   "id": "9369ecb1",
   "metadata": {},
   "source": [
    "Dictionaries are used to store data values in key:value pairs.\n",
    "\n",
    "A dictionary is a collection which is ordered*, changeable and do not allow duplicates."
   ]
  },
  {
   "cell_type": "code",
   "execution_count": null,
   "id": "5544f549",
   "metadata": {},
   "outputs": [],
   "source": [
    "thisdict = {\n",
    "  \"brand\": \"Ford\",\n",
    "  \"model\": \"Mustang\",\n",
    "  \"year\": 1964\n",
    "}\n",
    "print(thisdict[\"brand\"])"
   ]
  },
  {
   "cell_type": "code",
   "execution_count": null,
   "id": "a0aee139",
   "metadata": {},
   "outputs": [],
   "source": [
    "thisdict.get(\"model\")\n"
   ]
  },
  {
   "cell_type": "code",
   "execution_count": null,
   "id": "4abe5cd9",
   "metadata": {},
   "outputs": [],
   "source": [
    "thisdict.keys()\n"
   ]
  },
  {
   "cell_type": "code",
   "execution_count": null,
   "id": "e65ca8b6",
   "metadata": {},
   "outputs": [],
   "source": [
    "child1 = {\n",
    "  \"name\" : \"Emil\",\n",
    "  \"year\" : 2004\n",
    "}\n",
    "child2 = {\n",
    "  \"name\" : \"Tobias\",\n",
    "  \"year\" : 2007\n",
    "}\n",
    "child3 = {\n",
    "  \"name\" : \"Linus\",\n",
    "  \"year\" : 2011\n",
    "}\n",
    "\n",
    "myfamily = {\n",
    "  \"child1\" : child1,\n",
    "  \"child2\" : child2,\n",
    "  \"child3\" : child3\n",
    "}"
   ]
  },
  {
   "cell_type": "code",
   "execution_count": null,
   "id": "c291dbca",
   "metadata": {},
   "outputs": [],
   "source": [
    "#print 2011\n",
    "<your-answer>"
   ]
  },
  {
   "cell_type": "markdown",
   "id": "dd6f8b6a",
   "metadata": {},
   "source": [
    "# 7. For Loops"
   ]
  },
  {
   "cell_type": "code",
   "execution_count": null,
   "id": "f65b2221",
   "metadata": {},
   "outputs": [],
   "source": [
    "odds = [1, 3, 5, 7]\n",
    "print(odds[0])\n",
    "print(odds[1])\n",
    "print(odds[2])\n",
    "print(odds[3])"
   ]
  },
  {
   "cell_type": "code",
   "execution_count": null,
   "id": "6007b112",
   "metadata": {},
   "outputs": [],
   "source": [
    "Image(filename='data/IMG3_W2.jpg') "
   ]
  },
  {
   "cell_type": "code",
   "execution_count": null,
   "id": "0ba9889f",
   "metadata": {},
   "outputs": [],
   "source": [
    "#For cycle/loop\n",
    "for num in odds:\n",
    "    print(num)"
   ]
  },
  {
   "cell_type": "code",
   "execution_count": null,
   "id": "554da068",
   "metadata": {},
   "outputs": [],
   "source": [
    "#Print the square value for each of the elements in odds array\n",
    "for n in odds:\n",
    "    print(n*n)"
   ]
  },
  {
   "cell_type": "markdown",
   "id": "0e780f52",
   "metadata": {},
   "source": [
    "The glob library contains a function, also called glob, that finds files and directories whose names match a pattern. We provide those patterns as strings: the character * matches zero or more characters, while ? matches any one character. We can use this to get the names of all the CSV files in the current directory:"
   ]
  },
  {
   "cell_type": "code",
   "execution_count": null,
   "id": "29b13d74",
   "metadata": {},
   "outputs": [],
   "source": [
    "import glob"
   ]
  },
  {
   "cell_type": "code",
   "execution_count": null,
   "id": "0b262c7a",
   "metadata": {},
   "outputs": [],
   "source": [
    "print(glob.glob('data/inflammation*.csv'))"
   ]
  },
  {
   "cell_type": "markdown",
   "id": "44e15c16",
   "metadata": {},
   "source": [
    "## Q10"
   ]
  },
  {
   "cell_type": "code",
   "execution_count": null,
   "id": "4bfb8f8a",
   "metadata": {},
   "outputs": [],
   "source": [
    "#this peace of code has some errors due to package names defined in this notebook\n",
    "#correct the package names and run it\n",
    "\n",
    "filenames = sorted(glob.glob('data/inflammation*.csv'))\n",
    "\n",
    "for filename in filenames:\n",
    "    print(filename)\n",
    "\n",
    "    data = np.loadtxt(fname=filename, delimiter=',')\n",
    "\n",
    "    fig = plt.figure(figsize=(10.0, 3.0))\n",
    "\n",
    "    axes1 = fig.add_subplot(1, 3, 1)\n",
    "    axes2 = fig.add_subplot(1, 3, 2)\n",
    "    axes3 = fig.add_subplot(1, 3, 3)\n",
    "\n",
    "    axes1.set_ylabel('average')\n",
    "    axes1.plot(np.mean(data, axis=0))\n",
    "\n",
    "    axes2.set_ylabel('max')\n",
    "    axes2.plot(np.max(data, axis=0))\n",
    "\n",
    "    axes3.set_ylabel('min')\n",
    "    axes3.plot(np.min(data, axis=0))\n",
    "\n",
    "    fig.tight_layout()\n",
    "    plt.show()"
   ]
  },
  {
   "cell_type": "markdown",
   "id": "7bc9d8a6",
   "metadata": {},
   "source": [
    "# 8. Conditionals: if statement"
   ]
  },
  {
   "cell_type": "markdown",
   "id": "a6266efa",
   "metadata": {},
   "source": [
    "We can ask Python to take different actions, depending on a condition, with an if statement:"
   ]
  },
  {
   "cell_type": "code",
   "execution_count": null,
   "id": "e4f8d60f",
   "metadata": {},
   "outputs": [],
   "source": [
    "num = 37\n",
    "if num > 100:\n",
    "    print('greater')\n",
    "else:\n",
    "    print('not greater')\n",
    "print('done')"
   ]
  },
  {
   "cell_type": "markdown",
   "id": "4553c3b4",
   "metadata": {},
   "source": [
    "The second line of this code uses the keyword if to tell Python that we want to make a choice. If the test that follows the if statement is true, the body of the if (i.e., the set of lines indented underneath it) is executed, and “greater” is printed. If the test is false, the body of the else is executed instead, and “not greater” is printed. Only one or the other is ever executed before continuing on with program execution to print “done”:"
   ]
  },
  {
   "cell_type": "code",
   "execution_count": null,
   "id": "6c810339",
   "metadata": {},
   "outputs": [],
   "source": [
    "Image(filename='data/IMG4_W2.jpg') "
   ]
  },
  {
   "cell_type": "code",
   "execution_count": null,
   "id": "7545c786",
   "metadata": {},
   "outputs": [],
   "source": [
    "num = -3\n",
    "\n",
    "if num>0 :\n",
    "    print(num, 'is positive')\n",
    "elif num==0 :\n",
    "    print(num, 'is zero')\n",
    "else:\n",
    "    print(num, 'is negative')"
   ]
  },
  {
   "cell_type": "markdown",
   "id": "9f9f69ee",
   "metadata": {},
   "source": [
    "## Q11"
   ]
  },
  {
   "cell_type": "markdown",
   "id": "cbe45785",
   "metadata": {},
   "source": [
    "Your solution should:\n",
    "\n",
    "loop over the names of the files\n",
    "figure out which group each filename belongs in\n",
    "append the filename to that list\n",
    "In the end the three lists should be:\n",
    "\n",
    "large_files = ['inflammation-01.csv', 'inflammation-02.csv']\n",
    "\n",
    "small_files = ['small-01.csv', 'small-02.csv']\n",
    "\n",
    "other_files = ['myscript.py']"
   ]
  },
  {
   "cell_type": "code",
   "execution_count": null,
   "id": "e6777945",
   "metadata": {},
   "outputs": [],
   "source": [
    "filenames = ['inflammation-01.csv',\n",
    "         'myscript.py',\n",
    "         'inflammation-02.csv',\n",
    "         'small-01.csv',\n",
    "         'small-02.csv']\n",
    "large_files = []\n",
    "small_files = []\n",
    "other_files = []"
   ]
  },
  {
   "cell_type": "code",
   "execution_count": null,
   "id": "7f7da6bf",
   "metadata": {},
   "outputs": [],
   "source": [
    "<your-answer>"
   ]
  },
  {
   "cell_type": "markdown",
   "id": "8bee8b44",
   "metadata": {},
   "source": [
    "# 9. List comprehension"
   ]
  },
  {
   "cell_type": "code",
   "execution_count": null,
   "id": "beb98ff8",
   "metadata": {},
   "outputs": [],
   "source": [
    "# For loops in lists\n",
    "thislist = [\"apple\", \"banana\", \"cherry\"]\n",
    "for x in thislist:\n",
    "  print(x)"
   ]
  },
  {
   "cell_type": "code",
   "execution_count": null,
   "id": "68faec42",
   "metadata": {},
   "outputs": [],
   "source": [
    "fruits = [\"apple\", \"banana\", \"cherry\", \"kiwi\", \"mango\"]\n",
    "newlist = []\n",
    "\n",
    "#create a newlist with the fruits with 'a' in their name\n",
    "for f in fruits:\n",
    "    if 'a' in f:\n",
    "        newlist.append(f)\n",
    "\n",
    "print(newlist)"
   ]
  },
  {
   "cell_type": "code",
   "execution_count": null,
   "id": "1dbb69da",
   "metadata": {},
   "outputs": [],
   "source": [
    "# Faster way to do it with list comprehension:\n",
    "fruits = [\"apple\", \"banana\", \"cherry\", \"kiwi\", \"mango\"]\n",
    "\n",
    "newlist = [x for x in fruits if \"a\" in x]\n",
    "\n",
    "print(newlist)"
   ]
  },
  {
   "cell_type": "markdown",
   "id": "58ab366a",
   "metadata": {},
   "source": [
    "newlist = [expression for item in iterable if condition == True]"
   ]
  },
  {
   "cell_type": "code",
   "execution_count": null,
   "id": "18446973",
   "metadata": {},
   "outputs": [],
   "source": [
    "[x for x in fruits if x != \"apple\"]"
   ]
  },
  {
   "cell_type": "code",
   "execution_count": null,
   "id": "4e9534ff",
   "metadata": {},
   "outputs": [],
   "source": [
    "[x for x in fruits]"
   ]
  },
  {
   "cell_type": "code",
   "execution_count": null,
   "id": "4442fa7a",
   "metadata": {},
   "outputs": [],
   "source": [
    "[x for x in range(10)]"
   ]
  },
  {
   "cell_type": "code",
   "execution_count": null,
   "id": "841bd21e",
   "metadata": {},
   "outputs": [],
   "source": [
    "[x for x in range(10) if x < 5]"
   ]
  },
  {
   "cell_type": "code",
   "execution_count": null,
   "id": "928eae8c",
   "metadata": {},
   "outputs": [],
   "source": [
    "[x.upper() for x in fruits]"
   ]
  },
  {
   "cell_type": "code",
   "execution_count": null,
   "id": "7c18d26f",
   "metadata": {},
   "outputs": [],
   "source": [
    "['hello' for x in fruits]"
   ]
  },
  {
   "cell_type": "code",
   "execution_count": null,
   "id": "985a16fd",
   "metadata": {},
   "outputs": [],
   "source": [
    "#more than one expression\n",
    "[x if x != \"banana\" else \"orange\" for x in fruits]"
   ]
  },
  {
   "cell_type": "code",
   "execution_count": null,
   "id": "8313ea72",
   "metadata": {},
   "outputs": [],
   "source": [
    "[x  for x in fruits if x != \"banana\" else \"orange\"]"
   ]
  },
  {
   "cell_type": "markdown",
   "id": "c70a5f9f",
   "metadata": {},
   "source": [
    "## Q12"
   ]
  },
  {
   "cell_type": "code",
   "execution_count": null,
   "id": "1a121b81",
   "metadata": {},
   "outputs": [],
   "source": [
    "# How do you flatten a nested list?\n",
    "#hint: https://stackoverflow.com/questions/20112776/how-do-i-flatten-a-list-of-lists-nested-lists\n",
    "xd = [['pepper', 'zucchini', 'onion'],\n",
    "     ['cabbage', 'lettuce', 'garlic'],\n",
    "     ['apple', 'pear', 'banana']]\n",
    "#do the simpler version first\n"
   ]
  },
  {
   "cell_type": "markdown",
   "id": "160bfd1d",
   "metadata": {},
   "source": [
    "## Q13"
   ]
  },
  {
   "cell_type": "code",
   "execution_count": null,
   "id": "10c689ba",
   "metadata": {},
   "outputs": [],
   "source": [
    "# create this matrix:\n",
    "# [[0, 1, 2, 3, 4], [0, 1, 2, 3, 4], [0, 1, 2, 3, 4]]\n",
    "\n",
    "# Nested list comprehension\n",
    "\n",
    " \n",
    "print(matrix)"
   ]
  },
  {
   "cell_type": "markdown",
   "id": "613d4ad2",
   "metadata": {},
   "source": [
    "# 10. Functions"
   ]
  },
  {
   "cell_type": "markdown",
   "id": "dd7e24b5",
   "metadata": {},
   "source": [
    "The function definition opens with the keyword def followed by the name of the function (fahr_to_celsius) and a parenthesized list of parameter names (temp). The body of the function — the statements that are executed when it runs — is indented below the definition line. The body concludes with a return keyword followed by the return value.\n",
    "\n",
    "When we call the function, the values we pass to it are assigned to those variables so that we can use them inside the function. Inside the function, we use a return statement to send a result back to whoever asked for it"
   ]
  },
  {
   "cell_type": "code",
   "execution_count": null,
   "id": "ba4319a9",
   "metadata": {},
   "outputs": [],
   "source": [
    "def fahr_to_celsius(temp):\n",
    "    return ((temp - 32) * (5/9))\n"
   ]
  },
  {
   "cell_type": "markdown",
   "id": "2784f033",
   "metadata": {},
   "source": [
    "## Q14"
   ]
  },
  {
   "cell_type": "markdown",
   "id": "9742a999",
   "metadata": {},
   "source": [
    "Write a function rescale that takes an array as input and returns a corresponding array of values scaled to lie in the range 0.0 to 1.0. (Hint: If L and H are the lowest and highest values in the original array, then the replacement for a value v should be (v-L) / (H-L).)"
   ]
  },
  {
   "cell_type": "code",
   "execution_count": null,
   "id": "2de9f5ed",
   "metadata": {},
   "outputs": [],
   "source": [
    "\n",
    "def rescale(input_array):\n",
    "    \"\"\"Takes an array as input, and returns a corresponding array scaled so\n",
    "    that 0 corresponds to the minimum and 1 to the maximum value of the input array.\n",
    "\n",
    "    Examples:\n",
    "    >>> rescale(numpy.arange(10.0))\n",
    "    array([ 0.        ,  0.11111111,  0.22222222,  0.33333333,  0.44444444,\n",
    "           0.55555556,  0.66666667,  0.77777778,  0.88888889,  1.        ])\n",
    "    >>> rescale(numpy.linspace(0, 100, 5))\n",
    "    array([ 0.  ,  0.25,  0.5 ,  0.75,  1.  ])\n",
    "    \"\"\"\n",
    "    <your-answer>\n",
    "    \n",
    "    return x_new"
   ]
  },
  {
   "cell_type": "code",
   "execution_count": null,
   "id": "00234d78",
   "metadata": {},
   "outputs": [],
   "source": [
    "#np.arange(10.0)\n",
    "import numpy as np"
   ]
  },
  {
   "cell_type": "code",
   "execution_count": null,
   "id": "3edf077d",
   "metadata": {},
   "outputs": [],
   "source": [
    "rescale(matrix)"
   ]
  },
  {
   "cell_type": "code",
   "execution_count": null,
   "id": "7c8c0c5b",
   "metadata": {},
   "outputs": [],
   "source": [
    "help(rescale)"
   ]
  },
  {
   "cell_type": "markdown",
   "id": "ad025e71",
   "metadata": {},
   "source": [
    "## 10.1 Print versus return"
   ]
  },
  {
   "cell_type": "code",
   "execution_count": null,
   "id": "49d8be32",
   "metadata": {},
   "outputs": [],
   "source": [
    "def add(a, b):\n",
    "    print(a + b)"
   ]
  },
  {
   "cell_type": "code",
   "execution_count": null,
   "id": "22df0d97",
   "metadata": {},
   "outputs": [],
   "source": [
    "A = add(7, 3)\n",
    "print(A)"
   ]
  },
  {
   "cell_type": "code",
   "execution_count": null,
   "id": "607b147c",
   "metadata": {},
   "outputs": [],
   "source": [
    "def add2(a, b):\n",
    "    return a + b"
   ]
  },
  {
   "cell_type": "code",
   "execution_count": null,
   "id": "c4f89fa2",
   "metadata": {},
   "outputs": [],
   "source": [
    "A = add2(7, 3)\n",
    "print(A)"
   ]
  },
  {
   "cell_type": "markdown",
   "id": "cc32622f",
   "metadata": {},
   "source": [
    "## 10.2 Code structure"
   ]
  },
  {
   "cell_type": "code",
   "execution_count": null,
   "id": "5caa702d",
   "metadata": {},
   "outputs": [],
   "source": [
    "def visualize(filename):\n",
    "\n",
    "    data = np.loadtxt(fname=filename, delimiter=',')\n",
    "\n",
    "    fig = plt.figure(figsize=(10.0, 3.0))\n",
    "\n",
    "    axes1 = fig.add_subplot(1, 3, 1)\n",
    "    axes2 = fig.add_subplot(1, 3, 2)\n",
    "    axes3 = fig.add_subplot(1, 3, 3)\n",
    "\n",
    "    axes1.set_ylabel('average')\n",
    "    axes1.plot(np.mean(data, axis=0))\n",
    "\n",
    "    axes2.set_ylabel('max')\n",
    "    axes2.plot(np.max(data, axis=0))\n",
    "\n",
    "    axes3.set_ylabel('min')\n",
    "    axes3.plot(np.min(data, axis=0))\n",
    "\n",
    "    fig.tight_layout()\n",
    "    plt.show()\n"
   ]
  },
  {
   "cell_type": "code",
   "execution_count": null,
   "id": "355e3e74",
   "metadata": {},
   "outputs": [],
   "source": [
    "filenames = sorted(glob.glob('data/inflammation*.csv'))\n",
    "\n",
    "for filename in filenames[:3]:\n",
    "    print(filename)\n",
    "    visualize(filename)"
   ]
  },
  {
   "cell_type": "markdown",
   "id": "af6e8842",
   "metadata": {},
   "source": [
    "## Q15"
   ]
  },
  {
   "cell_type": "code",
   "execution_count": null,
   "id": "be65cd7e",
   "metadata": {},
   "outputs": [],
   "source": [
    "# Put the function visualize inside a file utils.py\n",
    "# restart the notebook\n",
    "# import the file \n",
    "# use the function in this notebook without defining it\n",
    "\n",
    "<your-answer>\n"
   ]
  },
  {
   "cell_type": "code",
   "execution_count": null,
   "id": "0006b147",
   "metadata": {},
   "outputs": [],
   "source": []
  },
  {
   "cell_type": "markdown",
   "id": "0cc5288f",
   "metadata": {},
   "source": [
    "# 15. Modules"
   ]
  },
  {
   "cell_type": "code",
   "execution_count": null,
   "id": "a6a09c90",
   "metadata": {},
   "outputs": [],
   "source": [
    "#build the mymodule.py file for this to work:\n",
    "import mymodule\n",
    "\n",
    "mymodule.greeting(\"Jonathan\")\n"
   ]
  },
  {
   "cell_type": "markdown",
   "id": "1efb5121",
   "metadata": {},
   "source": [
    "# Coronavirus (COVID-19) Visualization & Prediction  \n",
    "Coronavirus is a family of viruses that are named after their spiky crown. The novel coronavirus, also known as SARS-CoV-2, is a contagious respiratory virus that first reported in Wuhan, China. On 2/11/2020, the World Health Organization designated the name COVID-19 for the disease caused by the novel coronavirus. This notebook aims at exploring COVID-19 through data analysis and projections. \n",
    "\n",
    "   Coronavirus Case Data is provided by <a href='https://github.com/CSSEGISandData/COVID-19'>Johns Hopkins University</a>\n",
    "   <br>Learn more from the <a href='https://www.who.int/emergencies/diseases/novel-coronavirus-2019'>World Health Organization</a>\n",
    "   <br>Learn more from the <a href='https://www.cdc.gov/coronavirus/2019-ncov'>Centers for Disease Control and Prevention</a>\n",
    "   <br>Check out map visualizations from  <a href='https://gisanddata.maps.arcgis.com/apps/opsdashboard/index.html#/bda7594740fd40299423467b48e9ecf6'>JHU CCSE Dashboard</a>\n",
    "   <br>Source code is also on <a href='https://github.com/therealcyberlord'>my Github</a>\n",
    "   \n",
    "   \n",
    "   ```Last update: 1/16/2023 7:41 PM ET. New Updates: Daily report data update for 1/16/23. time series data update for 1/15/23. ```\n",
    "\n",
    "source: https://www.kaggle.com/code/therealcyberlord/coronavirus-covid-19-visualization-prediction/notebook "
   ]
  },
  {
   "cell_type": "code",
   "execution_count": null,
   "id": "df18517a",
   "metadata": {},
   "outputs": [],
   "source": [
    "import numpy as np \n",
    "import matplotlib.pyplot as plt \n",
    "import matplotlib.colors as mcolors\n",
    "import pandas as pd \n",
    "import random\n",
    "import math\n",
    "import time\n",
    "from sklearn.linear_model import LinearRegression, BayesianRidge\n",
    "from sklearn.model_selection import RandomizedSearchCV, train_test_split\n",
    "from sklearn.preprocessing import PolynomialFeatures\n",
    "from sklearn.svm import SVR\n",
    "from sklearn.metrics import mean_squared_error, mean_absolute_error\n",
    "import datetime\n",
    "import operator \n",
    "%matplotlib inline\n",
    "import warnings\n",
    "\n",
    "plt.style.use('seaborn-poster')\n",
    "warnings.filterwarnings(\"ignore\")"
   ]
  },
  {
   "cell_type": "code",
   "execution_count": null,
   "id": "e84c3248",
   "metadata": {},
   "outputs": [],
   "source": [
    "confirmed_df = pd.read_csv('https://raw.githubusercontent.com/CSSEGISandData/COVID-19/master/csse_covid_19_data/csse_covid_19_time_series/time_series_covid19_confirmed_global.csv')\n",
    "deaths_df = pd.read_csv('https://raw.githubusercontent.com/CSSEGISandData/COVID-19/master/csse_covid_19_data/csse_covid_19_time_series/time_series_covid19_deaths_global.csv')\n",
    "latest_data = pd.read_csv('https://raw.githubusercontent.com/CSSEGISandData/COVID-19/master/csse_covid_19_data/csse_covid_19_daily_reports/01-15-2023.csv')"
   ]
  },
  {
   "cell_type": "code",
   "execution_count": null,
   "id": "7dd5833a",
   "metadata": {},
   "outputs": [],
   "source": [
    "confirmed_df.head()"
   ]
  },
  {
   "cell_type": "code",
   "execution_count": null,
   "id": "4abb6f4a",
   "metadata": {},
   "outputs": [],
   "source": [
    "confirmed_df.shape"
   ]
  },
  {
   "cell_type": "code",
   "execution_count": null,
   "id": "324ac516",
   "metadata": {},
   "outputs": [],
   "source": [
    "confirmed_df.columns==confirmed_df.keys()"
   ]
  },
  {
   "cell_type": "code",
   "execution_count": null,
   "id": "77e1f6a4",
   "metadata": {},
   "outputs": [],
   "source": [
    "confirmed_cols = confirmed_df.keys()\n",
    "deaths_cols = deaths_df.keys()\n",
    "\n",
    "confirmed = confirmed_df.loc[:, confirmed_cols[4]:]\n",
    "deaths = deaths_df.loc[:, deaths_cols[4]:]"
   ]
  },
  {
   "cell_type": "code",
   "execution_count": null,
   "id": "6f2a0531",
   "metadata": {},
   "outputs": [],
   "source": [
    "num_dates = len(confirmed.keys())\n",
    "ck = confirmed.keys()\n",
    "dk = deaths.keys()\n",
    "\n",
    "world_cases = []\n",
    "total_deaths = [] \n",
    "mortality_rate = []\n",
    "\n"
   ]
  },
  {
   "cell_type": "code",
   "execution_count": null,
   "id": "b8ac2b75",
   "metadata": {},
   "outputs": [],
   "source": [
    "num_dates"
   ]
  },
  {
   "cell_type": "code",
   "execution_count": null,
   "id": "248fcd65",
   "metadata": {},
   "outputs": [],
   "source": [
    "confirmed[ck[1143-1]].sum()"
   ]
  },
  {
   "cell_type": "code",
   "execution_count": null,
   "id": "cce6540e",
   "metadata": {},
   "outputs": [],
   "source": [
    "num_dates = len(confirmed.keys())\n",
    "ck = confirmed.keys()\n",
    "dk = deaths.keys()\n",
    "\n",
    "world_cases = []\n",
    "total_deaths = [] \n",
    "mortality_rate = []\n",
    "\n",
    "\n",
    "for i in range(num_dates):\n",
    "    confirmed_sum = confirmed[ck[i]].sum()\n",
    "    death_sum = deaths[dk[i]].sum()\n",
    "    \n",
    "    world_cases.append(confirmed_sum)\n",
    "    total_deaths.append(death_sum)\n",
    "    \n",
    "    # calculate rates\n",
    "    mortality_rate.append(death_sum/confirmed_sum)"
   ]
  },
  {
   "cell_type": "code",
   "execution_count": null,
   "id": "c9523de5",
   "metadata": {},
   "outputs": [],
   "source": [
    "def daily_increase(data):\n",
    "    d = [] \n",
    "    for i in range(len(data)):\n",
    "        if i == 0:\n",
    "            d.append(data[0])\n",
    "        else:\n",
    "            d.append(data[i]-data[i-1])\n",
    "    return d \n",
    "\n",
    "def moving_average(data, window_size):\n",
    "    moving_average = []\n",
    "    for i in range(len(data)):\n",
    "        if i + window_size < len(data):\n",
    "            moving_average.append(np.mean(data[i:i+window_size]))\n",
    "        else:\n",
    "            moving_average.append(np.mean(data[i:len(data)]))\n",
    "    return moving_average\n",
    "\n",
    "# window size\n",
    "window = 7\n",
    "\n",
    "# confirmed cases\n",
    "world_daily_increase = daily_increase(world_cases)\n",
    "world_confirmed_avg= moving_average(world_cases, window)\n",
    "world_daily_increase_avg = moving_average(world_daily_increase, window)\n",
    "\n",
    "# deaths\n",
    "world_daily_death = daily_increase(total_deaths)\n",
    "world_death_avg = moving_average(total_deaths, window)\n",
    "world_daily_death_avg = moving_average(world_daily_death, window)"
   ]
  },
  {
   "cell_type": "code",
   "execution_count": null,
   "id": "54e831bb",
   "metadata": {},
   "outputs": [],
   "source": [
    "days_since_1_22 = np.array([i for i in range(len(ck))]).reshape(-1, 1)\n",
    "world_cases = np.array(world_cases).reshape(-1, 1)\n",
    "total_deaths = np.array(total_deaths).reshape(-1, 1)"
   ]
  },
  {
   "cell_type": "code",
   "execution_count": null,
   "id": "9b39ada7",
   "metadata": {},
   "outputs": [],
   "source": [
    "days_in_future = 10\n",
    "future_forcast = np.array([i for i in range(len(ck)+days_in_future)]).reshape(-1, 1)\n",
    "adjusted_dates = future_forcast[:-10]"
   ]
  },
  {
   "cell_type": "code",
   "execution_count": null,
   "id": "b3a47ba7",
   "metadata": {},
   "outputs": [],
   "source": [
    "start = '1/22/2020'\n",
    "start_date = datetime.datetime.strptime(start, '%m/%d/%Y')\n",
    "future_forcast_dates = []\n",
    "for i in range(len(future_forcast)):\n",
    "    future_forcast_dates.append((start_date + datetime.timedelta(days=i)).strftime('%m/%d/%Y'))"
   ]
  },
  {
   "cell_type": "code",
   "execution_count": null,
   "id": "43bab22a",
   "metadata": {},
   "outputs": [],
   "source": [
    "# slightly modify the data to fit the model better (regression models cannot pick the pattern), we are using data from 8/1/22 and onwards for the prediction modeling \n",
    "days_to_skip = 922\n",
    "X_train_confirmed, \\\n",
    "X_test_confirmed, \\\n",
    "y_train_confirmed, \\\n",
    "y_test_confirmed = \\\n",
    "train_test_split(days_since_1_22[days_to_skip:], world_cases[days_to_skip:], test_size=0.07, shuffle=False) "
   ]
  },
  {
   "cell_type": "code",
   "execution_count": null,
   "id": "26a6cc26",
   "metadata": {},
   "outputs": [],
   "source": [
    "X_train_confirmed"
   ]
  },
  {
   "cell_type": "code",
   "execution_count": null,
   "id": "94fa87ac",
   "metadata": {},
   "outputs": [],
   "source": [
    "\n",
    "poly = PolynomialFeatures(degree=3)\n",
    "poly_X_train_confirmed = poly.fit_transform(X_train_confirmed)\n",
    "poly_X_test_confirmed = poly.fit_transform(X_test_confirmed)\n",
    "poly_future_forcast = poly.fit_transform(future_forcast)"
   ]
  },
  {
   "cell_type": "code",
   "execution_count": null,
   "id": "2e887336",
   "metadata": {},
   "outputs": [],
   "source": [
    "# polynomial regression\n",
    "linear_model = LinearRegression(normalize=True, fit_intercept=True)\n",
    "linear_model.fit(poly_X_train_confirmed, y_train_confirmed)\n",
    "test_linear_pred = linear_model.predict(poly_X_test_confirmed)\n",
    "linear_pred = linear_model.predict(poly_future_forcast)\n",
    "print('MAE:', mean_absolute_error(test_linear_pred, y_test_confirmed))\n",
    "print('MSE:',mean_squared_error(test_linear_pred, y_test_confirmed))"
   ]
  },
  {
   "cell_type": "code",
   "execution_count": null,
   "id": "f028ca4b",
   "metadata": {},
   "outputs": [],
   "source": [
    "print(linear_model.coef_)"
   ]
  },
  {
   "cell_type": "code",
   "execution_count": null,
   "id": "dba470c1",
   "metadata": {},
   "outputs": [],
   "source": [
    "plt.plot(y_test_confirmed)\n",
    "plt.plot(test_linear_pred)\n",
    "plt.legend(['Test Data', 'Polynomial Regression Predictions'])"
   ]
  },
  {
   "cell_type": "markdown",
   "id": "468573c9",
   "metadata": {},
   "source": [
    "## Q16 "
   ]
  },
  {
   "cell_type": "code",
   "execution_count": null,
   "id": "a98b6983",
   "metadata": {},
   "outputs": [],
   "source": [
    "# https://scikit-learn.org/stable/getting_started.html#fitting-and-predicting-estimator-basics\n",
    "# Apply a Ramdom Forest Classifier and do the same plot "
   ]
  }
 ],
 "metadata": {
  "kernelspec": {
   "display_name": "Python 3.9.13",
   "language": "python",
   "name": "python3"
  },
  "language_info": {
   "codemirror_mode": {
    "name": "ipython",
    "version": 3
   },
   "file_extension": ".py",
   "mimetype": "text/x-python",
   "name": "python",
   "nbconvert_exporter": "python",
   "pygments_lexer": "ipython3",
   "version": "3.9.13"
  },
  "vscode": {
   "interpreter": {
    "hash": "d33a1388bb95f6f47390937b44de6829ea073fadb3ed2a95296fdc5e4fdfba80"
   }
  }
 },
 "nbformat": 4,
 "nbformat_minor": 5
}
